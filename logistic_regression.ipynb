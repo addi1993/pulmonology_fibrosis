{
 "cells": [
  {
   "cell_type": "code",
   "execution_count": 106,
   "metadata": {},
   "outputs": [],
   "source": [
    "import dicom\n",
    "import os\n",
    "import numpy\n",
    "from matplotlib import pyplot, cm\n",
    "from matplotlib import pylab\n",
    "from sklearn import datasets, neighbors, linear_model\n",
    "from skimage.feature import greycomatrix, greycoprops"
   ]
  },
  {
   "cell_type": "code",
   "execution_count": 107,
   "metadata": {
    "collapsed": true
   },
   "outputs": [],
   "source": [
    "def unison_shuffled_copies(a, b):\n",
    "    assert len(a) == len(b)\n",
    "    p = numpy.random.permutation(len(a))\n",
    "    return a[p], b[p]"
   ]
  },
  {
   "cell_type": "code",
   "execution_count": 145,
   "metadata": {
    "collapsed": true
   },
   "outputs": [],
   "source": [
    "pathTrainNeg = \"./fibrosis_patches_8/train/norm\"\n",
    "pathTrainPos = \"./fibrosis_patches_8/train/path\"\n",
    "pathTestPos = \"./fibrosis_patches_8/test/path\"\n",
    "pathTestNeg = \"./fibrosis_patches_8/test/norm\"\n",
    "lstFilesTrainNeg = []\n",
    "lstFilesTrainPos = []\n",
    "lstFilesTestNeg = []\n",
    "lstFilesTestPos = []\n",
    "for dirName, subdirList, fileList in os.walk(pathTrainNeg):\n",
    "    for filename in fileList:\n",
    "        if \".dcm\" in filename.lower():\n",
    "            lstFilesTrainNeg.append(os.path.join(dirName,filename))\n",
    "for dirName, subdirList, fileList in os.walk(pathTrainPos):\n",
    "    for filename in fileList:\n",
    "        if \".dcm\" in filename.lower():\n",
    "            lstFilesTrainPos.append(os.path.join(dirName,filename))\n",
    "for dirName, subdirList, fileList in os.walk(pathTestPos):\n",
    "    for filename in fileList:\n",
    "        if \".dcm\" in filename.lower():\n",
    "            lstFilesTestPos.append(os.path.join(dirName,filename))\n",
    "for dirName, subdirList, fileList in os.walk(pathTestNeg):\n",
    "    for filename in fileList:\n",
    "        if \".dcm\" in filename.lower():\n",
    "            lstFilesTestNeg.append(os.path.join(dirName,filename))"
   ]
  },
  {
   "cell_type": "code",
   "execution_count": 146,
   "metadata": {},
   "outputs": [],
   "source": [
    "pos_train=[]\n",
    "neg_train=[]\n",
    "X_train=[]\n",
    "y_train=[]\n",
    "X_test=[]\n",
    "y_test=[]\n",
    "learn_num = 2000\n",
    "\n",
    "for idx,img in enumerate(lstFilesTrainNeg):\n",
    "    #temp = numpy.ravel(dicom.read_file(img).pixel_array)\n",
    "    temp = dicom.read_file(img).pixel_array\n",
    "    matrix=[]\n",
    "    for t in temp:\n",
    "        matrix_line=[]\n",
    "        for val in t:\n",
    "            matrix_line.append((int)(256*val/7000))\n",
    "        matrix.append(matrix_line)\n",
    "    X_train.append(matrix)\n",
    "    neg_train.append(matrix)\n",
    "    y_train.append(0)\n",
    "    if idx>learn_num:\n",
    "        break\n",
    "\n",
    "for idx,img in enumerate(lstFilesTrainPos):\n",
    "    #temp = numpy.ravel(dicom.read_file(img).pixel_array)\n",
    "    temp = dicom.read_file(img).pixel_array\n",
    "    matrix=[]\n",
    "    for t in temp:\n",
    "        matrix_line=[]\n",
    "        for val in t:\n",
    "            matrix_line.append((int)(256*val/7000))\n",
    "        matrix.append(matrix_line)\n",
    "    X_train.append(matrix)\n",
    "    pos_train.append(matrix)\n",
    "    y_train.append(1)\n",
    "    if idx>learn_num:\n",
    "        break\n",
    "\n",
    "(X_train, y_train) = unison_shuffled_copies(numpy.asarray(X_train), numpy.asarray(y_train))\n",
    "for idx,img in enumerate(lstFilesTestNeg):\n",
    "    #temp = numpy.ravel(dicom.read_file(img).pixel_array)\n",
    "    temp = dicom.read_file(img).pixel_array\n",
    "    matrix=[]\n",
    "    for t in temp:\n",
    "        matrix_line=[]\n",
    "        for val in t:\n",
    "            matrix_line.append((int)(256*val/7000))\n",
    "        matrix.append(matrix_line)\n",
    "    X_test.append(matrix)\n",
    "    y_test.append(0)\n",
    "    if idx>learn_num:\n",
    "        break\n",
    "for idx,img in enumerate(lstFilesTestPos):\n",
    "    #temp = numpy.ravel(dicom.read_file(img).pixel_array)\n",
    "    temp = dicom.read_file(img).pixel_array\n",
    "    matrix=[]\n",
    "    for t in temp:\n",
    "        matrix_line=[]\n",
    "        for val in t:\n",
    "            matrix_line.append((int)(256*val/7000))\n",
    "        matrix.append(matrix_line)\n",
    "    X_test.append(matrix)\n",
    "    y_test.append(1)\n",
    "    if idx>learn_num:\n",
    "        break\n"
   ]
  },
  {
   "cell_type": "code",
   "execution_count": 147,
   "metadata": {},
   "outputs": [],
   "source": [
    "GLCM_train =[]\n",
    "GLCM_test =[]\n",
    "for img in X_train:\n",
    "    glcm = greycomatrix(img, [2], [0], 340, symmetric=True, normed=True)\n",
    "    GLCM_train.append([greycoprops(glcm, 'dissimilarity')[0, 0],greycoprops(glcm, 'correlation')[0, 0],greycoprops(glcm, 'homogeneity')[0, 0],greycoprops(glcm, 'contrast')[0, 0]])\n",
    "for img in X_test:\n",
    "    glcm = greycomatrix(img, [2], [0], 340, symmetric=True, normed=True)\n",
    "    GLCM_test.append([greycoprops(glcm, 'dissimilarity')[0, 0],greycoprops(glcm, 'correlation')[0, 0],greycoprops(glcm, 'homogeneity')[0, 0],greycoprops(glcm, 'contrast')[0, 0]])"
   ]
  },
  {
   "cell_type": "code",
   "execution_count": 148,
   "metadata": {},
   "outputs": [
    {
     "data": {
      "text/plain": [
       "(array([ 1878.,   124.,     0.,     0.]),\n",
       " array([  0.,   5.,  10.,  15.,  20.]),\n",
       " <a list of 4 Patch objects>)"
      ]
     },
     "execution_count": 148,
     "metadata": {},
     "output_type": "execute_result"
    },
    {
     "data": {
      "image/png": "[encoded data removed]",
      "text/plain": [
       "<matplotlib.figure.Figure at 0x118842a58>"
      ]
     },
     "metadata": {},
     "output_type": "display_data"
    }
   ],
   "source": [
    "# plotting dissimilarity\n",
    "%matplotlib inline\n",
    "pos_list_x = [item[0] for idx,item in enumerate(GLCM_train) if y_train[idx]==1 ]\n",
    "neg_list_x = [item[0] for idx,item in enumerate(GLCM_train) if y_train[idx]==0 ]\n",
    "bins = numpy.linspace(0, 20, 5)\n",
    "pyplot.hist(pos_list_x,bins,alpha=0.5)\n",
    "pyplot.hist(neg_list_x,bins,alpha=0.5)"
   ]
  },
  {
   "cell_type": "code",
   "execution_count": 149,
   "metadata": {},
   "outputs": [
    {
     "data": {
      "text/plain": [
       "(array([ 2002.,     0.,     0.,     0.]),\n",
       " array([   0.,   25.,   50.,   75.,  100.]),\n",
       " <a list of 4 Patch objects>)"
      ]
     },
     "execution_count": 149,
     "metadata": {},
     "output_type": "execute_result"
    },
    {
     "data": {
      "image/png": "[encoded data removed]",
      "text/plain": [
       "<matplotlib.figure.Figure at 0x1188429e8>"
      ]
     },
     "metadata": {},
     "output_type": "display_data"
    }
   ],
   "source": [
    "# plotting correlation\n",
    "%matplotlib inline\n",
    "pos_list_y = [item[1] for idx,item in enumerate(GLCM_train) if y_train[idx]==1 ]\n",
    "neg_list_y = [item[1] for idx,item in enumerate(GLCM_train) if y_train[idx]==0 ]\n",
    "bins = numpy.linspace(0, 100, 5)\n",
    "pyplot.hist(pos_list_y,bins,alpha=0.5)\n",
    "pyplot.hist(neg_list_y,bins,alpha=0.5)"
   ]
  },
  {
   "cell_type": "code",
   "execution_count": 143,
   "metadata": {},
   "outputs": [
    {
     "data": {
      "text/plain": [
       "<matplotlib.legend.Legend at 0x119d60c50>"
      ]
     },
     "execution_count": 143,
     "metadata": {},
     "output_type": "execute_result"
    },
    {
     "data": {
      "image/png": "[encoded data removed]",
      "text/plain": [
       "<matplotlib.figure.Figure at 0x119bee9e8>"
      ]
     },
     "metadata": {},
     "output_type": "display_data"
    }
   ],
   "source": [
    "fig = pyplot.figure(figsize=(20, 20))\n",
    "ax = fig.add_subplot(3, 2, 2)\n",
    "ax.plot(pos_list_x, pos_list_y, 'go',\n",
    "        label='Positive',alpha=0.5)\n",
    "ax.plot(neg_list_x, neg_list_y, 'bo',\n",
    "        label='Negative',alpha=0.5)\n",
    "ax.set_xlabel('GLCM Dissimilarity')\n",
    "ax.set_ylabel('GLCM Correlation')\n",
    "ax.legend()"
   ]
  },
  {
   "cell_type": "code",
   "execution_count": 150,
   "metadata": {},
   "outputs": [
    {
     "name": "stdout",
     "output_type": "stream",
     "text": [
      "KNN score: 0.489510\n",
      "LogisticRegression score: 0.624376\n"
     ]
    }
   ],
   "source": [
    "knn = neighbors.KNeighborsClassifier()\n",
    "logistic = linear_model.LogisticRegression()\n",
    "\n",
    "print('KNN score: %f' % knn.fit(GLCM_train, y_train).score(GLCM_test, y_test))\n",
    "print('LogisticRegression score: %f'\n",
    "      % logistic.fit(GLCM_train, y_train).score(GLCM_test, y_test))"
   ]
  },
  {
   "cell_type": "code",
   "execution_count": null,
   "metadata": {
    "collapsed": true
   },
   "outputs": [],
   "source": []
  }
 ],
 "metadata": {
  "kernelspec": {
   "display_name": "Python 3",
   "language": "python",
   "name": "python3"
  }
 },
 "nbformat": 4,
 "nbformat_minor": 2
}
