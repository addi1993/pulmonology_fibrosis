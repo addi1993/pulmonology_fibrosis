{
 "cells": [
  {
   "cell_type": "code",
   "execution_count": 53,
   "metadata": {},
   "outputs": [],
   "source": [
    "import dicom\n",
    "import os\n",
    "import numpy\n",
    "from matplotlib import pyplot, cm\n",
    "from matplotlib import pylab\n",
    "from sklearn import datasets, neighbors, linear_model\n",
    "from skimage.feature import greycomatrix, greycoprops"
   ]
  },
  {
   "cell_type": "code",
   "execution_count": 10,
   "metadata": {
    "collapsed": true
   },
   "outputs": [],
   "source": [
    "def unison_shuffled_copies(a, b):\n",
    "    assert len(a) == len(b)\n",
    "    p = numpy.random.permutation(len(a))\n",
    "    return a[p], b[p]"
   ]
  },
  {
   "cell_type": "code",
   "execution_count": 7,
   "metadata": {
    "collapsed": true
   },
   "outputs": [],
   "source": [
    "pathTrainNeg = \"./fibrosis_patches_8/train/path\"\n",
    "pathTrainPos = \"./fibrosis_patches_8/train/norm\"\n",
    "pathTestPos = \"./fibrosis_patches_8/test/path\"\n",
    "pathTestNeg = \"./fibrosis_patches_8/test/norm\"\n",
    "lstFilesTrainNeg = []\n",
    "lstFilesTrainPos = []\n",
    "lstFilesTestNeg = []\n",
    "lstFilesTestPos = []\n",
    "for dirName, subdirList, fileList in os.walk(pathTrainNeg):\n",
    "    for filename in fileList:\n",
    "        if \".dcm\" in filename.lower():\n",
    "            lstFilesTrainNeg.append(os.path.join(dirName,filename))\n",
    "for dirName, subdirList, fileList in os.walk(pathTrainPos):\n",
    "    for filename in fileList:\n",
    "        if \".dcm\" in filename.lower():\n",
    "            lstFilesTrainPos.append(os.path.join(dirName,filename))\n",
    "for dirName, subdirList, fileList in os.walk(pathTestPos):\n",
    "    for filename in fileList:\n",
    "        if \".dcm\" in filename.lower():\n",
    "            lstFilesTestPos.append(os.path.join(dirName,filename))\n",
    "for dirName, subdirList, fileList in os.walk(pathTestNeg):\n",
    "    for filename in fileList:\n",
    "        if \".dcm\" in filename.lower():\n",
    "            lstFilesTestNeg.append(os.path.join(dirName,filename))"
   ]
  },
  {
   "cell_type": "code",
   "execution_count": 8,
   "metadata": {},
   "outputs": [
    {
     "data": {
      "image/png": "[encoded data removed]",
      "text/plain": [
       "<matplotlib.figure.Figure at 0x117895b70>"
      ]
     },
     "metadata": {},
     "output_type": "display_data"
    }
   ],
   "source": [
    "pylab.imshow(numpy.reshape(X_train[6], (-1, 64)), cmap=pylab.cm.bone_r)\n",
    "pylab.show()"
   ]
  },
  {
   "cell_type": "code",
   "execution_count": 91,
   "metadata": {},
   "outputs": [],
   "source": [
    "pos_train=[]\n",
    "neg_train=[]\n",
    "X_train=[]\n",
    "y_train=[]\n",
    "X_test=[]\n",
    "y_test=[]\n",
    "learn_num = 100\n",
    "\n",
    "for idx,img in enumerate(lstFilesTrainNeg):\n",
    "    #temp = numpy.ravel(dicom.read_file(img).pixel_array)\n",
    "    temp = dicom.read_file(img).pixel_array\n",
    "    X_train.append(temp)\n",
    "    neg_train.append(temp)\n",
    "    y_train.append(0)\n",
    "    if idx>learn_num:\n",
    "        break\n",
    "\n",
    "for idx,img in enumerate(lstFilesTrainPos):\n",
    "    #temp = numpy.ravel(dicom.read_file(img).pixel_array)\n",
    "    temp = dicom.read_file(img).pixel_array\n",
    "    X_train.append(temp)\n",
    "    pos_train.append(temp)\n",
    "    y_train.append(1)\n",
    "    if idx>learn_num:\n",
    "        break\n",
    "\n",
    "(X_train, y_train) = unison_shuffled_copies(numpy.asarray(X_train), numpy.asarray(y_train))\n",
    "for idx,img in enumerate(lstFilesTestNeg):\n",
    "    #temp = numpy.ravel(dicom.read_file(img).pixel_array)\n",
    "    temp = dicom.read_file(img).pixel_array\n",
    "    X_test.append(temp)\n",
    "    y_test.append(0)\n",
    "    if idx>learn_num:\n",
    "        break\n",
    "for idx,img in enumerate(lstFilesTestPos):\n",
    "    #temp = numpy.ravel(dicom.read_file(img).pixel_array)\n",
    "    temp = dicom.read_file(img).pixel_array\n",
    "    X_test.append(temp)\n",
    "    y_test.append(1)\n",
    "    if idx>learn_num:\n",
    "        break\n"
   ]
  },
  {
   "cell_type": "code",
   "execution_count": 49,
   "metadata": {},
   "outputs": [
    {
     "ename": "SyntaxError",
     "evalue": "EOF while scanning triple-quoted string literal (<ipython-input-49-30f49ed6de5e>, line 22)",
     "output_type": "error",
     "traceback": [
      "\u001b[0;36m  File \u001b[0;32m\"<ipython-input-49-30f49ed6de5e>\"\u001b[0;36m, line \u001b[0;32m22\u001b[0m\n\u001b[0;31m    val = val / 40\u001b[0m\n\u001b[0m                  \n^\u001b[0m\n\u001b[0;31mSyntaxError\u001b[0m\u001b[0;31m:\u001b[0m EOF while scanning triple-quoted string literal\n"
     ]
    }
   ],
   "source": [
    "#preprocc\n",
    "X_train_mean=[]\n",
    "X_test_mean=[]\n",
    "GLCM_train=[]\n",
    "GLCM_test=[]\n",
    "for item in X_train:\n",
    "    list = [el for el in item if el<4000]\n",
    "    X_train_mean.append([numpy.mean(item),len(list)])\n",
    "for item in X_test:\n",
    "    list = [el for el in item if el<4000]\n",
    "    X_test_mean.append([numpy.mean(item),len(list)])\n",
    "X_train_mean = numpy.asarray(X_train_mean)\n",
    "X_test_mean = numpy.asarray(X_test_mean)\n",
    "print(X_train_mean[1])\n",
    "print(X_test_mean[1])\n",
    "\"\"\"\"\n",
    "for item in X_train:\n",
    "    for val in item:\n",
    "        if val > 4000:\n",
    "            val = val / 40\n",
    "for item in X_test:\n",
    "    for val in item:\n",
    "        if val > 4000:\n",
    "            val = val / 40"
   ]
  },
  {
   "cell_type": "code",
   "execution_count": 92,
   "metadata": {},
   "outputs": [
    {
     "name": "stdout",
     "output_type": "stream",
     "text": [
      "[[4300 4305 4333 ..., 4439 4463 4444]\n",
      " [4398 4460 4573 ..., 4375 4381 4441]\n",
      " [4542 4675 4724 ..., 4292 4359 4504]\n",
      " ..., \n",
      " [4976 4971 4964 ..., 4539 4417 4400]\n",
      " [4818 4917 4952 ..., 4627 4577 4467]\n",
      " [4839 4926 4911 ..., 4508 4386 4309]]\n"
     ]
    },
    {
     "ename": "ValueError",
     "evalue": "The maximum grayscale value in the image should be smaller than the number of levels.",
     "output_type": "error",
     "traceback": [
      "\u001b[0;31m---------------------------------------------------------------------------\u001b[0m",
      "\u001b[0;31mValueError\u001b[0m                                Traceback (most recent call last)",
      "\u001b[0;32m<ipython-input-92-9e964e563dfc>\u001b[0m in \u001b[0;36m<module>\u001b[0;34m()\u001b[0m\n\u001b[1;32m      3\u001b[0m \u001b[0mprint\u001b[0m\u001b[0;34m(\u001b[0m\u001b[0mX_train\u001b[0m\u001b[0;34m[\u001b[0m\u001b[0;36m0\u001b[0m\u001b[0;34m]\u001b[0m\u001b[0;34m)\u001b[0m\u001b[0;34m\u001b[0m\u001b[0m\n\u001b[1;32m      4\u001b[0m \u001b[0;32mfor\u001b[0m \u001b[0mimg\u001b[0m \u001b[0;32min\u001b[0m \u001b[0mX_train\u001b[0m\u001b[0;34m:\u001b[0m\u001b[0;34m\u001b[0m\u001b[0m\n\u001b[0;32m----> 5\u001b[0;31m     \u001b[0mglcm\u001b[0m \u001b[0;34m=\u001b[0m \u001b[0mgreycomatrix\u001b[0m\u001b[0;34m(\u001b[0m\u001b[0mimg\u001b[0m\u001b[0;34m,\u001b[0m \u001b[0;34m[\u001b[0m\u001b[0;36m5\u001b[0m\u001b[0;34m]\u001b[0m\u001b[0;34m,\u001b[0m \u001b[0;34m[\u001b[0m\u001b[0;36m0\u001b[0m\u001b[0;34m]\u001b[0m\u001b[0;34m,\u001b[0m \u001b[0;36m257\u001b[0m\u001b[0;34m,\u001b[0m \u001b[0msymmetric\u001b[0m\u001b[0;34m=\u001b[0m\u001b[0;32mTrue\u001b[0m\u001b[0;34m,\u001b[0m \u001b[0mnormed\u001b[0m\u001b[0;34m=\u001b[0m\u001b[0;32mTrue\u001b[0m\u001b[0;34m)\u001b[0m\u001b[0;34m\u001b[0m\u001b[0m\n\u001b[0m\u001b[1;32m      6\u001b[0m     \u001b[0mGLCM_train\u001b[0m\u001b[0;34m.\u001b[0m\u001b[0mappend\u001b[0m\u001b[0;34m(\u001b[0m\u001b[0;34m[\u001b[0m\u001b[0mgreycoprops\u001b[0m\u001b[0;34m(\u001b[0m\u001b[0mglcm\u001b[0m\u001b[0;34m,\u001b[0m \u001b[0;34m'dissimilarity'\u001b[0m\u001b[0;34m)\u001b[0m\u001b[0;34m[\u001b[0m\u001b[0;36m0\u001b[0m\u001b[0;34m,\u001b[0m \u001b[0;36m0\u001b[0m\u001b[0;34m]\u001b[0m\u001b[0;34m,\u001b[0m\u001b[0mgreycoprops\u001b[0m\u001b[0;34m(\u001b[0m\u001b[0mglcm\u001b[0m\u001b[0;34m,\u001b[0m \u001b[0;34m'correlation'\u001b[0m\u001b[0;34m)\u001b[0m\u001b[0;34m[\u001b[0m\u001b[0;36m0\u001b[0m\u001b[0;34m,\u001b[0m \u001b[0;36m0\u001b[0m\u001b[0;34m]\u001b[0m\u001b[0;34m]\u001b[0m\u001b[0;34m)\u001b[0m\u001b[0;34m\u001b[0m\u001b[0m\n",
      "\u001b[0;32m/Users/ilyas/anaconda/envs/KAMI/lib/python3.6/site-packages/skimage/feature/texture.py\u001b[0m in \u001b[0;36mgreycomatrix\u001b[0;34m(image, distances, angles, levels, symmetric, normed)\u001b[0m\n\u001b[1;32m    124\u001b[0m \u001b[0;34m\u001b[0m\u001b[0m\n\u001b[1;32m    125\u001b[0m     \u001b[0;32mif\u001b[0m \u001b[0mimage_max\u001b[0m \u001b[0;34m>=\u001b[0m \u001b[0mlevels\u001b[0m\u001b[0;34m:\u001b[0m\u001b[0;34m\u001b[0m\u001b[0m\n\u001b[0;32m--> 126\u001b[0;31m         raise ValueError(\"The maximum grayscale value in the image should be \"\n\u001b[0m\u001b[1;32m    127\u001b[0m                          \"smaller than the number of levels.\")\n\u001b[1;32m    128\u001b[0m \u001b[0;34m\u001b[0m\u001b[0m\n",
      "\u001b[0;31mValueError\u001b[0m: The maximum grayscale value in the image should be smaller than the number of levels."
     ]
    }
   ],
   "source": [
    "GLCM_train =[]\n",
    "GLCM_test =[]\n",
    "print(X_train[0])\n",
    "for img in X_train:\n",
    "    glcm = greycomatrix(img, [5], [0], 256, symmetric=True, normed=True)\n",
    "    GLCM_train.append([greycoprops(glcm, 'dissimilarity')[0, 0],greycoprops(glcm, 'correlation')[0, 0]])"
   ]
  },
  {
   "cell_type": "code",
   "execution_count": null,
   "metadata": {},
   "outputs": [],
   "source": [
    "%matplotlib inline\n",
    "flat_pos_list = [item for sublist in pos_train for item in sublist]\n",
    "flat_neg_list = [item for sublist in neg_train for item in sublist]\n",
    "bins = numpy.linspace(2000, 8000, 100)\n",
    "pyplot.hist(flat_pos_list,bins,alpha=0.5)\n",
    "pyplot.hist(flat_neg_list,bins,alpha=0.5)"
   ]
  },
  {
   "cell_type": "code",
   "execution_count": 51,
   "metadata": {},
   "outputs": [
    {
     "data": {
      "text/plain": [
       "(array([   9.,   17.,   17.,   18.,   15.,   19.,   18.,   19.,    8.,\n",
       "           6.,    2.,    0.,    0.,    0.,    0.,    0.,    0.,    0.,\n",
       "           0.,    0.,    0.,    0.,    0.,    0.,    1.,    4.,   10.,\n",
       "          17.,   17.,   18.,   21.,   33.,   39.,   40.,   39.,   42.,\n",
       "          44.,   46.,   49.,   42.,   57.,   50.,   54.,   64.,   59.,\n",
       "          71.,   87.,  127.,  112.,  120.,  147.,  181.,  201.,  203.,\n",
       "         157.,  128.,  124.,  160.,  154.,  171.,  197.,  184.,  170.,\n",
       "         183.,  208.,  215.,  214.,  212.,  237.,  216.,  209.,  202.,\n",
       "         202.,  191.,  176.,  182.,  184.,  176.,  177.,  163.,  179.,\n",
       "         137.,  142.,  178.,  162.,  153.,  142.,  168.,  139.,  117.,\n",
       "         118.,   93.,   98.,   97.,   90.,   92.,   78.,   76.,   92.]),\n",
       " array([ 2000.        ,  2050.50505051,  2101.01010101,  2151.51515152,\n",
       "         2202.02020202,  2252.52525253,  2303.03030303,  2353.53535354,\n",
       "         2404.04040404,  2454.54545455,  2505.05050505,  2555.55555556,\n",
       "         2606.06060606,  2656.56565657,  2707.07070707,  2757.57575758,\n",
       "         2808.08080808,  2858.58585859,  2909.09090909,  2959.5959596 ,\n",
       "         3010.1010101 ,  3060.60606061,  3111.11111111,  3161.61616162,\n",
       "         3212.12121212,  3262.62626263,  3313.13131313,  3363.63636364,\n",
       "         3414.14141414,  3464.64646465,  3515.15151515,  3565.65656566,\n",
       "         3616.16161616,  3666.66666667,  3717.17171717,  3767.67676768,\n",
       "         3818.18181818,  3868.68686869,  3919.19191919,  3969.6969697 ,\n",
       "         4020.2020202 ,  4070.70707071,  4121.21212121,  4171.71717172,\n",
       "         4222.22222222,  4272.72727273,  4323.23232323,  4373.73737374,\n",
       "         4424.24242424,  4474.74747475,  4525.25252525,  4575.75757576,\n",
       "         4626.26262626,  4676.76767677,  4727.27272727,  4777.77777778,\n",
       "         4828.28282828,  4878.78787879,  4929.29292929,  4979.7979798 ,\n",
       "         5030.3030303 ,  5080.80808081,  5131.31313131,  5181.81818182,\n",
       "         5232.32323232,  5282.82828283,  5333.33333333,  5383.83838384,\n",
       "         5434.34343434,  5484.84848485,  5535.35353535,  5585.85858586,\n",
       "         5636.36363636,  5686.86868687,  5737.37373737,  5787.87878788,\n",
       "         5838.38383838,  5888.88888889,  5939.39393939,  5989.8989899 ,\n",
       "         6040.4040404 ,  6090.90909091,  6141.41414141,  6191.91919192,\n",
       "         6242.42424242,  6292.92929293,  6343.43434343,  6393.93939394,\n",
       "         6444.44444444,  6494.94949495,  6545.45454545,  6595.95959596,\n",
       "         6646.46464646,  6696.96969697,  6747.47474747,  6797.97979798,\n",
       "         6848.48484848,  6898.98989899,  6949.49494949,  7000.        ]),\n",
       " <a list of 99 Patch objects>)"
      ]
     },
     "execution_count": 51,
     "metadata": {},
     "output_type": "execute_result"
    },
    {
     "data": {
      "image/png": "[encoded data removed]",
      "text/plain": [
       "<matplotlib.figure.Figure at 0x10ade79b0>"
      ]
     },
     "metadata": {},
     "output_type": "display_data"
    }
   ],
   "source": [
    "%matplotlib inline\n",
    "avg_pos_val=[]\n",
    "avg_neg_val=[]\n",
    "for item in pos_train:\n",
    "    avg_pos_val.append(numpy.mean(item))\n",
    "for item in neg_train:\n",
    "    avg_neg_val.append(numpy.mean(item))\n",
    "bins = numpy.linspace(2000, 7000, 100)\n",
    "pyplot.hist(avg_pos_val,bins,alpha=0.5)\n",
    "pyplot.hist(avg_neg_val,bins,alpha=0.5)"
   ]
  },
  {
   "cell_type": "code",
   "execution_count": 36,
   "metadata": {},
   "outputs": [
    {
     "name": "stdout",
     "output_type": "stream",
     "text": [
      "KNN score: 0.479541\n",
      "LogisticRegression score: 0.477545\n"
     ]
    }
   ],
   "source": [
    "knn = neighbors.KNeighborsClassifier()\n",
    "logistic = linear_model.LogisticRegression()\n",
    "\n",
    "print('KNN score: %f' % knn.fit(X_train_mean, y_train).score(X_test_mean, y_test))\n",
    "print('LogisticRegression score: %f'\n",
    "      % logistic.fit(X_train_mean, y_train).score(X_test_mean, y_test))"
   ]
  },
  {
   "cell_type": "code",
   "execution_count": null,
   "metadata": {
    "collapsed": true
   },
   "outputs": [],
   "source": []
  }
 ],
 "metadata": {
  "kernelspec": {
   "display_name": "Python 3",
   "language": "python",
   "name": "python3"
  }
 },
 "nbformat": 4,
 "nbformat_minor": 2
}
