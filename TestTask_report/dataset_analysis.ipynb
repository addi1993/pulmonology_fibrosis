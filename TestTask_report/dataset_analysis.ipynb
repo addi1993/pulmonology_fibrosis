{
 "cells": [
  {
   "cell_type": "code",
   "execution_count": 2,
   "metadata": {},
   "outputs": [
    {
     "name": "stderr",
     "output_type": "stream",
     "text": [
      "/Users/ilyas/anaconda/envs/KAMI/lib/python3.6/site-packages/dicom/__init__.py:53: UserWarning: \n",
      "This code is using an older version of pydicom, which is no longer \n",
      "maintained as of Jan 2017.  You can access the new pydicom features and API \n",
      "by installing `pydicom` from PyPI.\n",
      "See 'Transitioning to pydicom 1.x' section at pydicom.readthedocs.org \n",
      "for more information.\n",
      "\n",
      "  warnings.warn(msg)\n"
     ]
    }
   ],
   "source": [
    "import dicom\n",
    "import os\n",
    "import numpy\n",
    "from matplotlib import pyplot, cm\n",
    "from matplotlib import pylab\n",
    "from sklearn import datasets, neighbors, linear_model\n",
    "from skimage.feature import greycomatrix, greycoprops"
   ]
  },
  {
   "cell_type": "code",
   "execution_count": 3,
   "metadata": {
    "collapsed": true
   },
   "outputs": [],
   "source": [
    "def unison_shuffled_copies(a, b):\n",
    "    assert len(a) == len(b)\n",
    "    p = numpy.random.permutation(len(a))\n",
    "    return a[p], b[p]"
   ]
  },
  {
   "cell_type": "code",
   "execution_count": 4,
   "metadata": {},
   "outputs": [],
   "source": [
    "pathTrainNeg = \"./fibrosis_patches_8/train/norm\"\n",
    "pathTrainPos = \"./fibrosis_patches_8/train/path\"\n",
    "pathTestPos = \"./fibrosis_patches_8/test/path\"\n",
    "pathTestNeg = \"./fibrosis_patches_8/test/norm\"\n",
    "lstFilesTrainNeg = []\n",
    "lstFilesTrainPos = []\n",
    "lstFilesTestNeg = []\n",
    "lstFilesTestPos = []\n",
    "for dirName, subdirList, fileList in os.walk(pathTrainNeg):\n",
    "    for filename in fileList:\n",
    "        if \".dcm\" in filename.lower():\n",
    "            lstFilesTrainNeg.append(os.path.join(dirName,filename))\n",
    "for dirName, subdirList, fileList in os.walk(pathTrainPos):\n",
    "    for filename in fileList:\n",
    "        if \".dcm\" in filename.lower():\n",
    "            lstFilesTrainPos.append(os.path.join(dirName,filename))\n",
    "for dirName, subdirList, fileList in os.walk(pathTestPos):\n",
    "    for filename in fileList:\n",
    "        if \".dcm\" in filename.lower():\n",
    "            lstFilesTestPos.append(os.path.join(dirName,filename))\n",
    "for dirName, subdirList, fileList in os.walk(pathTestNeg):\n",
    "    for filename in fileList:\n",
    "        if \".dcm\" in filename.lower():\n",
    "            lstFilesTestNeg.append(os.path.join(dirName,filename))"
   ]
  },
  {
   "cell_type": "code",
   "execution_count": 8,
   "metadata": {
    "collapsed": true
   },
   "outputs": [],
   "source": [
    "pos_train=[]\n",
    "neg_train=[]\n",
    "X_train=[]\n",
    "y_train=[]\n",
    "X_test=[]\n",
    "y_test=[]\n",
    "learn_num = 2000\n",
    "train_num = 100\n",
    "\n",
    "for idx,img in enumerate(lstFilesTrainNeg):\n",
    "    temp = numpy.ravel(dicom.read_file(img).pixel_array)\n",
    "    #temp = dicom.read_file(img).pixel_array\n",
    "    X_train.append(temp)\n",
    "    neg_train.append(temp)\n",
    "    y_train.append(0)\n",
    "    if idx>learn_num:\n",
    "        break\n",
    "\n",
    "for idx,img in enumerate(lstFilesTrainPos):\n",
    "    temp = numpy.ravel(dicom.read_file(img).pixel_array)\n",
    "    #temp = dicom.read_file(img).pixel_array\n",
    "    X_train.append(temp)\n",
    "    pos_train.append(temp)\n",
    "    y_train.append(1)\n",
    "    if idx>learn_num:\n",
    "        break\n",
    "\n",
    "(X_train, y_train) = unison_shuffled_copies(numpy.asarray(X_train), numpy.asarray(y_train))\n",
    "for idx,img in enumerate(lstFilesTestNeg):\n",
    "    temp = numpy.ravel(dicom.read_file(img).pixel_array)\n",
    "    #temp = dicom.read_file(img).pixel_array\n",
    "    X_test.append(temp)\n",
    "    y_test.append(0)\n",
    "    if idx>train_num:\n",
    "        break\n",
    "for idx,img in enumerate(lstFilesTestPos):\n",
    "    temp = numpy.ravel(dicom.read_file(img).pixel_array)\n",
    "    #temp = dicom.read_file(img).pixel_array\n",
    "    X_test.append(temp)\n",
    "    y_test.append(1)\n",
    "    if idx>train_num:\n",
    "        break\n"
   ]
  },
  {
   "cell_type": "code",
   "execution_count": 14,
   "metadata": {},
   "outputs": [
    {
     "data": {
      "text/plain": [
       "(array([  0.00000000e+00,   0.00000000e+00,   0.00000000e+00,\n",
       "          0.00000000e+00,   0.00000000e+00,   0.00000000e+00,\n",
       "          0.00000000e+00,   0.00000000e+00,   0.00000000e+00,\n",
       "          2.80000000e+01,   5.60000000e+01,   1.99000000e+02,\n",
       "          5.19000000e+02,   1.64800000e+03,   4.81000000e+03,\n",
       "          1.05020000e+04,   1.84080000e+04,   2.62630000e+04,\n",
       "          3.84660000e+04,   4.67380000e+04,   6.15810000e+04,\n",
       "          8.57890000e+04,   1.06669000e+05,   1.27153000e+05,\n",
       "          1.48279000e+05,   1.51406000e+05,   1.41968000e+05,\n",
       "          1.54876000e+05,   1.56061000e+05,   1.72895000e+05,\n",
       "          1.98227000e+05,   2.13540000e+05,   2.42330000e+05,\n",
       "          2.81893000e+05,   2.97869000e+05,   3.02122000e+05,\n",
       "          3.16108000e+05,   3.32401000e+05,   3.47504000e+05,\n",
       "          3.37655000e+05,   3.18146000e+05,   2.82365000e+05,\n",
       "          2.55781000e+05,   2.28862000e+05,   2.01525000e+05,\n",
       "          1.74704000e+05,   1.52508000e+05,   1.31682000e+05,\n",
       "          1.20214000e+05,   1.03369000e+05,   9.64810000e+04,\n",
       "          9.27100000e+04,   8.36100000e+04,   7.69440000e+04,\n",
       "          7.47880000e+04,   6.62860000e+04,   5.37210000e+04,\n",
       "          4.37830000e+04,   4.00260000e+04,   4.12560000e+04,\n",
       "          4.16340000e+04,   4.34680000e+04,   4.66310000e+04,\n",
       "          5.00700000e+04,   5.47550000e+04,   5.89090000e+04,\n",
       "          6.31520000e+04,   6.84640000e+04,   6.81730000e+04,\n",
       "          7.29510000e+04,   7.71020000e+04,   7.74390000e+04,\n",
       "          7.91860000e+04,   8.10590000e+04,   7.19480000e+04,\n",
       "          5.88700000e+04,   4.98140000e+04,   4.50420000e+04,\n",
       "          3.77750000e+04,   3.04740000e+04,   2.12380000e+04,\n",
       "          1.57340000e+04,   9.84300000e+03,   7.25200000e+03,\n",
       "          4.07300000e+03,   1.39200000e+03,   6.11000000e+02,\n",
       "          3.21000000e+02,   8.80000000e+01,   0.00000000e+00,\n",
       "          0.00000000e+00,   0.00000000e+00,   0.00000000e+00,\n",
       "          0.00000000e+00,   0.00000000e+00,   0.00000000e+00,\n",
       "          0.00000000e+00,   0.00000000e+00,   0.00000000e+00]),\n",
       " array([  2000.        ,   2080.80808081,   2161.61616162,   2242.42424242,\n",
       "          2323.23232323,   2404.04040404,   2484.84848485,   2565.65656566,\n",
       "          2646.46464646,   2727.27272727,   2808.08080808,   2888.88888889,\n",
       "          2969.6969697 ,   3050.50505051,   3131.31313131,   3212.12121212,\n",
       "          3292.92929293,   3373.73737374,   3454.54545455,   3535.35353535,\n",
       "          3616.16161616,   3696.96969697,   3777.77777778,   3858.58585859,\n",
       "          3939.39393939,   4020.2020202 ,   4101.01010101,   4181.81818182,\n",
       "          4262.62626263,   4343.43434343,   4424.24242424,   4505.05050505,\n",
       "          4585.85858586,   4666.66666667,   4747.47474747,   4828.28282828,\n",
       "          4909.09090909,   4989.8989899 ,   5070.70707071,   5151.51515152,\n",
       "          5232.32323232,   5313.13131313,   5393.93939394,   5474.74747475,\n",
       "          5555.55555556,   5636.36363636,   5717.17171717,   5797.97979798,\n",
       "          5878.78787879,   5959.5959596 ,   6040.4040404 ,   6121.21212121,\n",
       "          6202.02020202,   6282.82828283,   6363.63636364,   6444.44444444,\n",
       "          6525.25252525,   6606.06060606,   6686.86868687,   6767.67676768,\n",
       "          6848.48484848,   6929.29292929,   7010.1010101 ,   7090.90909091,\n",
       "          7171.71717172,   7252.52525253,   7333.33333333,   7414.14141414,\n",
       "          7494.94949495,   7575.75757576,   7656.56565657,   7737.37373737,\n",
       "          7818.18181818,   7898.98989899,   7979.7979798 ,   8060.60606061,\n",
       "          8141.41414141,   8222.22222222,   8303.03030303,   8383.83838384,\n",
       "          8464.64646465,   8545.45454545,   8626.26262626,   8707.07070707,\n",
       "          8787.87878788,   8868.68686869,   8949.49494949,   9030.3030303 ,\n",
       "          9111.11111111,   9191.91919192,   9272.72727273,   9353.53535354,\n",
       "          9434.34343434,   9515.15151515,   9595.95959596,   9676.76767677,\n",
       "          9757.57575758,   9838.38383838,   9919.19191919,  10000.        ]),\n",
       " <a list of 99 Patch objects>)"
      ]
     },
     "execution_count": 14,
     "metadata": {},
     "output_type": "execute_result"
    },
    {
     "data": {
      "image/png": "[encoded data removed]",
      "text/plain": [
       "<matplotlib.figure.Figure at 0x1090aea58>"
      ]
     },
     "metadata": {},
     "output_type": "display_data"
    }
   ],
   "source": [
    "%matplotlib inline\n",
    "flat_pos_list = [item for sublist in pos_train for item in sublist]\n",
    "flat_neg_list = [item for sublist in neg_train for item in sublist]\n",
    "bins = numpy.linspace(2000, 10000, 100)\n",
    "pyplot.hist(flat_pos_list,bins,alpha=0.5)\n",
    "pyplot.hist(flat_neg_list,bins,alpha=0.5)"
   ]
  },
  {
   "cell_type": "code",
   "execution_count": 10,
   "metadata": {},
   "outputs": [
    {
     "data": {
      "text/plain": [
       "(array([  0.,   0.,   0.,   0.,   0.,   0.,   0.,   0.,   0.,   0.,   0.,\n",
       "          0.,   0.,   0.,   0.,   0.,   0.,   0.,   0.,   0.,   0.,   0.,\n",
       "          0.,   0.,   0.,   0.,   3.,   4.,   4.,  15.,  20.,  31.,  31.,\n",
       "         34.,  25.,  20.,  21.,  17.,  27.,  27.,  26.,  46.,  42.,  53.,\n",
       "         54.,  69.,  59.,  79.,  62.,  67.,  63.,  62.,  65.,  76.,  62.,\n",
       "         63.,  80.,  58.,  54.,  36.,  35.,  30.,  37.,  23.,  16.,  10.,\n",
       "          7.,   6.,   8.,   9.,  10.,   9.,   3.,   6.,   4.,   5.,   6.,\n",
       "          3.,   7.,   3.,   8.,   4.,  11.,   4.,  11.,   9.,   8.,  13.,\n",
       "         11.,  11.,  15.,  16.,  13.,  18.,  19.,  18.,  26.,  18.,  20.]),\n",
       " array([ 2000.        ,  2060.60606061,  2121.21212121,  2181.81818182,\n",
       "         2242.42424242,  2303.03030303,  2363.63636364,  2424.24242424,\n",
       "         2484.84848485,  2545.45454545,  2606.06060606,  2666.66666667,\n",
       "         2727.27272727,  2787.87878788,  2848.48484848,  2909.09090909,\n",
       "         2969.6969697 ,  3030.3030303 ,  3090.90909091,  3151.51515152,\n",
       "         3212.12121212,  3272.72727273,  3333.33333333,  3393.93939394,\n",
       "         3454.54545455,  3515.15151515,  3575.75757576,  3636.36363636,\n",
       "         3696.96969697,  3757.57575758,  3818.18181818,  3878.78787879,\n",
       "         3939.39393939,  4000.        ,  4060.60606061,  4121.21212121,\n",
       "         4181.81818182,  4242.42424242,  4303.03030303,  4363.63636364,\n",
       "         4424.24242424,  4484.84848485,  4545.45454545,  4606.06060606,\n",
       "         4666.66666667,  4727.27272727,  4787.87878788,  4848.48484848,\n",
       "         4909.09090909,  4969.6969697 ,  5030.3030303 ,  5090.90909091,\n",
       "         5151.51515152,  5212.12121212,  5272.72727273,  5333.33333333,\n",
       "         5393.93939394,  5454.54545455,  5515.15151515,  5575.75757576,\n",
       "         5636.36363636,  5696.96969697,  5757.57575758,  5818.18181818,\n",
       "         5878.78787879,  5939.39393939,  6000.        ,  6060.60606061,\n",
       "         6121.21212121,  6181.81818182,  6242.42424242,  6303.03030303,\n",
       "         6363.63636364,  6424.24242424,  6484.84848485,  6545.45454545,\n",
       "         6606.06060606,  6666.66666667,  6727.27272727,  6787.87878788,\n",
       "         6848.48484848,  6909.09090909,  6969.6969697 ,  7030.3030303 ,\n",
       "         7090.90909091,  7151.51515152,  7212.12121212,  7272.72727273,\n",
       "         7333.33333333,  7393.93939394,  7454.54545455,  7515.15151515,\n",
       "         7575.75757576,  7636.36363636,  7696.96969697,  7757.57575758,\n",
       "         7818.18181818,  7878.78787879,  7939.39393939,  8000.        ]),\n",
       " <a list of 99 Patch objects>)"
      ]
     },
     "execution_count": 10,
     "metadata": {},
     "output_type": "execute_result"
    },
    {
     "data": {
      "image/png": "[encoded data removed]",
      "text/plain": [
       "<matplotlib.figure.Figure at 0x108d0cda0>"
      ]
     },
     "metadata": {},
     "output_type": "display_data"
    }
   ],
   "source": [
    "%matplotlib inline\n",
    "avg_pos_val=[]\n",
    "avg_neg_val=[]\n",
    "for item in pos_train:\n",
    "    avg_pos_val.append(numpy.mean(item))\n",
    "for item in neg_train:\n",
    "    avg_neg_val.append(numpy.mean(item))\n",
    "bins = numpy.linspace(2000, 10000, 100)\n",
    "pyplot.hist(avg_pos_val,bins,alpha=0.5)\n",
    "pyplot.hist(avg_neg_val,bins,alpha=0.5)"
   ]
  },
  {
   "cell_type": "code",
   "execution_count": 13,
   "metadata": {},
   "outputs": [
    {
     "name": "stdout",
     "output_type": "stream",
     "text": [
      "KNN score: 0.475490\n",
      "LogisticRegression score: 0.485294\n"
     ]
    }
   ],
   "source": [
    "knn = neighbors.KNeighborsClassifier()\n",
    "logistic = linear_model.LogisticRegression()\n",
    "\n",
    "print('KNN score: %f' % knn.fit(X_train, y_train).score(X_test, y_test))\n",
    "print('LogisticRegression score: %f'\n",
    "      % logistic.fit(X_train, y_train).score(X_test, y_test))"
   ]
  },
  {
   "cell_type": "code",
   "execution_count": null,
   "metadata": {
    "collapsed": true
   },
   "outputs": [],
   "source": []
  }
 ],
 "metadata": {
  "kernelspec": {
   "display_name": "Python 3",
   "language": "python",
   "name": "python3"
  },
  "language_info": {
   "codemirror_mode": {
    "name": "ipython",
    "version": 3
   },
   "file_extension": ".py",
   "mimetype": "text/x-python",
   "name": "python",
   "nbconvert_exporter": "python",
   "pygments_lexer": "ipython3",
   "version": "3.6.1"
  }
 },
 "nbformat": 4,
 "nbformat_minor": 2
}
