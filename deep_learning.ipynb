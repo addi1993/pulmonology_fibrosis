{
 "cells": [
  {
   "cell_type": "code",
   "execution_count": 1,
   "metadata": {},
   "outputs": [
    {
     "name": "stderr",
     "output_type": "stream",
     "text": [
      "Using TensorFlow backend.\n"
     ]
    }
   ],
   "source": [
    "import tensorflow\n",
    "from keras.models import Sequential\n",
    "from keras.layers import Conv2D, MaxPooling2D\n",
    "from keras.layers import Activation, Dropout, Flatten, Dense\n",
    "from keras import backend as K\n",
    "import scipy\n",
    "import dicom\n",
    "import numpy as np\n",
    "import os"
   ]
  },
  {
   "cell_type": "code",
   "execution_count": 12,
   "metadata": {
    "collapsed": true
   },
   "outputs": [],
   "source": [
    "# dimensions of our images.\n",
    "img_width, img_height = 64, 64\n",
    "\n",
    "pathTrainNeg = \"./fibrosis_patches_8/train/norm\"\n",
    "pathTrainPos = \"./fibrosis_patches_8/train/path\"\n",
    "pathTestPos = \"./fibrosis_patches_8/test/path\"\n",
    "pathTestNeg = \"./fibrosis_patches_8/test/norm\"\n",
    "nb_train_samples = 10000\n",
    "nb_validation_samples = 5000\n",
    "epochs = 40\n",
    "batch_size = 16"
   ]
  },
  {
   "cell_type": "code",
   "execution_count": 3,
   "metadata": {
    "collapsed": true
   },
   "outputs": [],
   "source": [
    "# kind of preprocessing and normalizing dicom images\n",
    "def load_and_normalize_dicom(path):\n",
    "    dicom1 = dicom.read_file(path)\n",
    "    dicom_img = dicom1.pixel_array.astype(np.float64)\n",
    "    mn = dicom_img.min()\n",
    "    mx = dicom_img.max()\n",
    "    \n",
    "    if (mx - mn) != 0:\n",
    "        dicom_img = (dicom_img - mn)/(mx-mn)\n",
    "        #dicom_img = dicom_img\n",
    "    else:\n",
    "        dicom_img[:, :] = 0 \n",
    "    \n",
    "    return dicom_img"
   ]
  },
  {
   "cell_type": "code",
   "execution_count": 4,
   "metadata": {
    "collapsed": true
   },
   "outputs": [],
   "source": [
    "def unison_shuffled_copies(a, b):\n",
    "    assert len(a) == len(b)\n",
    "    p = np.random.permutation(len(a))\n",
    "    return a[p], b[p]"
   ]
  },
  {
   "cell_type": "code",
   "execution_count": 5,
   "metadata": {
    "collapsed": true
   },
   "outputs": [],
   "source": [
    "if K.image_data_format() == 'channels_first':\n",
    "    input_shape = (1, img_width, img_height)\n",
    "else:\n",
    "    input_shape = (img_width, img_height, 1)"
   ]
  },
  {
   "cell_type": "code",
   "execution_count": 18,
   "metadata": {
    "collapsed": true
   },
   "outputs": [],
   "source": [
    "model = Sequential()\n",
    "\n",
    "model.add(Conv2D(32, (3, 3), input_shape=input_shape))\n",
    "model.add(Conv2D(32, (3, 3)))\n",
    "model.add(Activation('relu'))\n",
    "model.add(MaxPooling2D(pool_size=(2, 2)))\n",
    "model.add(Dropout(0.25))\n",
    "\n",
    "model.add(Conv2D(64, (3, 3)))\n",
    "model.add(Conv2D(64, (3, 3)))\n",
    "model.add(Activation('relu'))\n",
    "model.add(MaxPooling2D(pool_size=(2, 2)))\n",
    "model.add(Dropout(0.25))\n",
    "\n",
    "model.add(Conv2D(128, (3, 3)))\n",
    "model.add(Conv2D(128, (3, 3)))\n",
    "model.add(Conv2D(128, (3, 3)))\n",
    "model.add(Activation('relu'))\n",
    "model.add(MaxPooling2D(pool_size=(2, 2)))\n",
    "model.add(Dropout(0.25))\n",
    "\n",
    "model.add(Flatten())\n",
    "model.add(Dense(256))\n",
    "model.add(Activation('relu'))\n",
    "model.add(Dropout(0.5))\n",
    "model.add(Dense(1))\n",
    "model.add(Activation('sigmoid'))\n",
    "\n",
    "model.compile(loss='binary_crossentropy',\n",
    "              optimizer='SGD',\n",
    "              metrics=['accuracy'])"
   ]
  },
  {
   "cell_type": "code",
   "execution_count": 7,
   "metadata": {
    "collapsed": true
   },
   "outputs": [],
   "source": [
    "lstFilesTrainNeg = []\n",
    "lstFilesTrainPos = []\n",
    "lstFilesTestNeg = []\n",
    "lstFilesTestPos = []\n",
    "for dirName, subdirList, fileList in os.walk(pathTrainNeg):\n",
    "    for filename in fileList:\n",
    "        if \".dcm\" in filename.lower():\n",
    "            lstFilesTrainNeg.append(os.path.join(dirName,filename))\n",
    "for dirName, subdirList, fileList in os.walk(pathTrainPos):\n",
    "    for filename in fileList:\n",
    "        if \".dcm\" in filename.lower():\n",
    "            lstFilesTrainPos.append(os.path.join(dirName,filename))\n",
    "for dirName, subdirList, fileList in os.walk(pathTestPos):\n",
    "    for filename in fileList:\n",
    "        if \".dcm\" in filename.lower():\n",
    "            lstFilesTestPos.append(os.path.join(dirName,filename))\n",
    "for dirName, subdirList, fileList in os.walk(pathTestNeg):\n",
    "    for filename in fileList:\n",
    "        if \".dcm\" in filename.lower():\n",
    "            lstFilesTestNeg.append(os.path.join(dirName,filename))"
   ]
  },
  {
   "cell_type": "code",
   "execution_count": 8,
   "metadata": {
    "collapsed": true
   },
   "outputs": [],
   "source": [
    "# reading the dataset\n",
    "X_train=[]\n",
    "y_train=[]\n",
    "X_test=[]\n",
    "y_test=[]\n",
    "\n",
    "for idx,img in enumerate(lstFilesTrainNeg):\n",
    "    X_train.append(load_and_normalize_dicom(img))\n",
    "    y_train.append(0)\n",
    "    if idx>nb_train_samples:\n",
    "        break\n",
    "\n",
    "for idx,img in enumerate(lstFilesTrainPos):\n",
    "    X_train.append(load_and_normalize_dicom(img))\n",
    "    y_train.append(1)\n",
    "    if idx>nb_train_samples:\n",
    "        break\n",
    "\n",
    "(X_train, y_train) = unison_shuffled_copies(np.asarray(X_train), np.asarray(y_train))\n",
    "X_train = np.asanyarray(X_train)\n",
    "X_train = X_train.reshape(X_train.shape[0], img_width, img_height,1)\n",
    "for idx,img in enumerate(lstFilesTestNeg):\n",
    "    X_test.append(load_and_normalize_dicom(img))\n",
    "    y_test.append(0)\n",
    "    if idx>nb_validation_samples:\n",
    "        break\n",
    "for idx,img in enumerate(lstFilesTestPos):\n",
    "    X_test.append(load_and_normalize_dicom(img))\n",
    "    y_test.append(1)\n",
    "    if idx>nb_validation_samples:\n",
    "        break\n",
    "X_test = np.asanyarray(X_test)\n",
    "X_test = X_test.reshape(X_test.shape[0], img_width, img_height,1)"
   ]
  },
  {
   "cell_type": "code",
   "execution_count": 19,
   "metadata": {},
   "outputs": [
    {
     "name": "stdout",
     "output_type": "stream",
     "text": [
      "Train on 19736 samples, validate on 5326 samples\n",
      "Epoch 1/40\n",
      "19736/19736 [==============================] - 589s - loss: 0.6911 - acc: 0.5239 - val_loss: 0.6917 - val_acc: 0.5034\n",
      "Epoch 2/40\n",
      "19736/19736 [==============================] - 592s - loss: 0.6817 - acc: 0.5604 - val_loss: 0.6981 - val_acc: 0.5066\n",
      "Epoch 3/40\n",
      "19736/19736 [==============================] - 596s - loss: 0.6747 - acc: 0.5774 - val_loss: 0.6866 - val_acc: 0.5426\n",
      "Epoch 4/40\n",
      "19736/19736 [==============================] - 592s - loss: 0.6702 - acc: 0.5903 - val_loss: 0.6702 - val_acc: 0.6040\n",
      "Epoch 5/40\n",
      "19736/19736 [==============================] - 591s - loss: 0.6624 - acc: 0.5996 - val_loss: 0.6538 - val_acc: 0.6209\n",
      "Epoch 6/40\n",
      "19736/19736 [==============================] - 589s - loss: 0.6486 - acc: 0.6198 - val_loss: 0.6286 - val_acc: 0.6617\n",
      "Epoch 7/40\n",
      "19736/19736 [==============================] - 629s - loss: 0.6323 - acc: 0.6388 - val_loss: 0.6415 - val_acc: 0.5959\n",
      "Epoch 8/40\n",
      "19736/19736 [==============================] - 673s - loss: 0.6177 - acc: 0.6581 - val_loss: 0.6108 - val_acc: 0.6941\n",
      "Epoch 9/40\n",
      "19736/19736 [==============================] - 622s - loss: 0.6048 - acc: 0.6705 - val_loss: 0.5920 - val_acc: 0.6816\n",
      "Epoch 10/40\n",
      "19736/19736 [==============================] - 613s - loss: 0.5917 - acc: 0.6806 - val_loss: 0.5849 - val_acc: 0.6900\n",
      "Epoch 11/40\n",
      "19736/19736 [==============================] - 612s - loss: 0.5818 - acc: 0.6833 - val_loss: 0.5719 - val_acc: 0.6994\n",
      "Epoch 12/40\n",
      "19736/19736 [==============================] - 619s - loss: 0.5723 - acc: 0.6912 - val_loss: 0.6105 - val_acc: 0.6605\n",
      "Epoch 13/40\n",
      "19736/19736 [==============================] - 617s - loss: 0.5622 - acc: 0.7039 - val_loss: 0.6578 - val_acc: 0.6296\n",
      "Epoch 14/40\n",
      "19736/19736 [==============================] - 614s - loss: 0.5518 - acc: 0.7075 - val_loss: 0.5734 - val_acc: 0.7255\n",
      "Epoch 15/40\n",
      "19736/19736 [==============================] - 612s - loss: 0.5428 - acc: 0.7155 - val_loss: 0.6201 - val_acc: 0.6459\n",
      "Epoch 16/40\n",
      "19736/19736 [==============================] - 614s - loss: 0.5322 - acc: 0.7205 - val_loss: 0.6914 - val_acc: 0.6155\n",
      "Epoch 17/40\n",
      "19736/19736 [==============================] - 612s - loss: 0.5238 - acc: 0.7290 - val_loss: 0.7804 - val_acc: 0.5811\n",
      "Epoch 18/40\n",
      "19736/19736 [==============================] - 654s - loss: 0.5080 - acc: 0.7441 - val_loss: 0.6504 - val_acc: 0.7225\n",
      "Epoch 19/40\n",
      "19736/19736 [==============================] - 646s - loss: 0.4944 - acc: 0.7491 - val_loss: 0.5959 - val_acc: 0.6885\n",
      "Epoch 20/40\n",
      "19736/19736 [==============================] - 593s - loss: 0.4774 - acc: 0.7651 - val_loss: 0.8726 - val_acc: 0.6181\n",
      "Epoch 21/40\n",
      "19736/19736 [==============================] - 594s - loss: 0.4589 - acc: 0.7735 - val_loss: 0.6840 - val_acc: 0.6628\n",
      "Epoch 22/40\n",
      "19736/19736 [==============================] - 610s - loss: 0.4358 - acc: 0.7947 - val_loss: 0.7032 - val_acc: 0.6515\n",
      "Epoch 23/40\n",
      "19736/19736 [==============================] - 626s - loss: 0.4112 - acc: 0.8124 - val_loss: 0.7960 - val_acc: 0.6269\n",
      "Epoch 24/40\n",
      "19736/19736 [==============================] - 588s - loss: 0.3920 - acc: 0.8188 - val_loss: 0.6720 - val_acc: 0.6596\n",
      "Epoch 25/40\n",
      "19736/19736 [==============================] - 591s - loss: 0.3654 - acc: 0.8380 - val_loss: 0.8265 - val_acc: 0.6235\n",
      "Epoch 26/40\n",
      "19736/19736 [==============================] - 590s - loss: 0.3403 - acc: 0.8482 - val_loss: 0.7478 - val_acc: 0.6635\n",
      "Epoch 27/40\n",
      "19736/19736 [==============================] - 591s - loss: 0.3219 - acc: 0.8595 - val_loss: 0.7515 - val_acc: 0.6562\n",
      "Epoch 28/40\n",
      "19736/19736 [==============================] - 590s - loss: 0.2975 - acc: 0.8739 - val_loss: 0.9018 - val_acc: 0.6213\n",
      "Epoch 29/40\n",
      "19736/19736 [==============================] - 590s - loss: 0.2768 - acc: 0.8829 - val_loss: 0.8411 - val_acc: 0.6100\n",
      "Epoch 30/40\n",
      "19736/19736 [==============================] - 590s - loss: 0.2536 - acc: 0.8956 - val_loss: 0.8274 - val_acc: 0.6416\n",
      "Epoch 31/40\n",
      "19736/19736 [==============================] - 590s - loss: 0.2420 - acc: 0.9013 - val_loss: 0.9229 - val_acc: 0.6555\n",
      "Epoch 32/40\n",
      "19736/19736 [==============================] - 591s - loss: 0.2152 - acc: 0.9138 - val_loss: 1.1641 - val_acc: 0.6012\n",
      "Epoch 33/40\n",
      "19736/19736 [==============================] - 590s - loss: 0.2039 - acc: 0.9157 - val_loss: 1.0237 - val_acc: 0.6183\n",
      "Epoch 34/40\n",
      "19736/19736 [==============================] - 592s - loss: 0.1919 - acc: 0.9220 - val_loss: 0.9704 - val_acc: 0.6303\n",
      "Epoch 35/40\n",
      "19736/19736 [==============================] - 590s - loss: 0.1822 - acc: 0.9287 - val_loss: 1.0173 - val_acc: 0.6633\n",
      "Epoch 36/40\n",
      "19736/19736 [==============================] - 590s - loss: 0.1628 - acc: 0.9379 - val_loss: 1.3346 - val_acc: 0.6202\n",
      "Epoch 37/40\n",
      "19736/19736 [==============================] - 591s - loss: 0.1593 - acc: 0.9385 - val_loss: 1.1806 - val_acc: 0.6224\n",
      "Epoch 38/40\n",
      "19736/19736 [==============================] - 588s - loss: 0.1436 - acc: 0.9455 - val_loss: 1.0821 - val_acc: 0.6710\n",
      "Epoch 39/40\n",
      "19736/19736 [==============================] - 582s - loss: 0.1361 - acc: 0.9473 - val_loss: 1.0726 - val_acc: 0.6414\n",
      "Epoch 40/40\n",
      "19736/19736 [==============================] - 581s - loss: 0.1294 - acc: 0.9492 - val_loss: 1.2525 - val_acc: 0.6234\n"
     ]
    },
    {
     "data": {
      "text/plain": [
       "<keras.callbacks.History at 0x12a2decc0>"
      ]
     },
     "execution_count": 19,
     "metadata": {},
     "output_type": "execute_result"
    }
   ],
   "source": [
    "model.fit(X_train, y_train, batch_size=batch_size, epochs=epochs,  validation_data=(X_test, y_test), shuffle=True)"
   ]
  },
  {
   "cell_type": "markdown",
   "metadata": {},
   "source": [
    "### Light CNN, 3 conv. layers with 1 convolution\n",
    "Epoch 40/40\n",
    "19736/19736 [==============================] - 75s - loss: 0.5221 - acc: 0.7304 - val_loss: 0.6132 - val_acc: 0.6577\n",
    "Epoch 40/40\n",
    "19736/19736 [==============================] - 235s - loss: 0.4517 - acc: 0.7845 - val_loss: 0.6701 - val_acc: 0.6333"
   ]
  },
  {
   "cell_type": "code",
   "execution_count": null,
   "metadata": {
    "collapsed": true
   },
   "outputs": [],
   "source": [
    "# some paragraphs about augumentation\n",
    "from keras.preprocessing.image import ImageDataGenerator, array_to_img, img_to_array, load_img\n",
    "from PIL import Image\n",
    "dest_path = os.path.dirname(os.path.realpath(\"./\")) + \"/augum_data/\"\n",
    "datagen = ImageDataGenerator(\n",
    "        rotation_range=10,\n",
    "        width_shift_range=0.2,\n",
    "        height_shift_range=0.2,\n",
    "        rescale=1./255,\n",
    "        shear_range=0.2,\n",
    "        zoom_range=0.2,\n",
    "        horizontal_flip=True,\n",
    "        fill_mode='nearest')\n",
    "x = load_and_normalize_dicom('fibrosis_patches_8/train/norm/1_1.dcm')\n",
    "x = x.reshape((1,)+x.shape+(1,))\n",
    "# the .flow() command below generates batches of randomly transformed images\n",
    "# and saves the results to the `preview/` directory\n",
    "i = 0\n",
    "for batch in datagen.flow(x, batch_size=1,\n",
    "                          save_to_dir=dest_path, save_prefix='aug', save_format='jpeg'):\n",
    "    i += 1\n",
    "    if i > 20:\n",
    "        break  # otherwise the generator would loop indefinitely"
   ]
  }
 ],
 "metadata": {
  "kernelspec": {
   "display_name": "Python 3",
   "language": "python",
   "name": "python3"
  },
  "language_info": {
   "codemirror_mode": {
    "name": "ipython",
    "version": 3
   },
   "file_extension": ".py",
   "mimetype": "text/x-python",
   "name": "python",
   "nbconvert_exporter": "python",
   "pygments_lexer": "ipython3",
   "version": "3.6.1"
  }
 },
 "nbformat": 4,
 "nbformat_minor": 2
}
